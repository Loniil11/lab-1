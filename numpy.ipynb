{
 "cells": [
  {
   "cell_type": "markdown",
   "metadata": {
    "id": "vC84e9kzyxPy"
   },
   "source": [
    "<h1>Импорт библиотек"
   ]
  },
  {
   "cell_type": "code",
   "execution_count": 2,
   "metadata": {
    "id": "cgKeNegmQG5S"
   },
   "outputs": [],
   "source": [
    "import numpy as np\n",
    "import matplotlib.pyplot as plt"
   ]
  },
  {
   "cell_type": "markdown",
   "metadata": {
    "id": "qFM9uVU2x4Ls"
   },
   "source": [
    "<h1>Задача 1. Дан набор из $p$ матриц размерностью $(n, n)$ и $p$ векторов размерностью $(n, 1)$, найти сумму произведений матриц на векторы. Написать тесты для кода"
   ]
  },
  {
   "cell_type": "code",
   "execution_count": 15,
   "metadata": {
    "id": "IAbUvEiYyWFF"
   },
   "outputs": [
    {
     "name": "stdout",
     "output_type": "stream",
     "text": [
      "[[1 1 1]\n",
      " [2 2 2]\n",
      " [3 3 3]]\n",
      "[2 2 2]\n",
      "[12 24 36]\n"
     ]
    }
   ],
   "source": [
    "\n",
    "def sum_prod(X, V):\n",
    "    '''\n",
    "    X - матрицы (n, n)\n",
    "    V - векторы (n, 1)\n",
    "    Гарантируется, что len(X) == len(V)\n",
    "    '''\n",
    "    s = []\n",
    "    for i in range(len(X)):\n",
    "        s.append(np.dot(X[i],V[i]))\n",
    "    return sum(s)\n",
    "    pass\n",
    "x = np.array([[1,1,1],[2,2,2],[3,3,3]])\n",
    "v = np.array([2,2,2])\n",
    "X = [x,x]\n",
    "V = [v,v]\n",
    "print(sum_prod(X,V))"
   ]
  },
  {
   "cell_type": "markdown",
   "metadata": {
    "id": "TKwPG4fIy2w4"
   },
   "source": [
    "<h1>Задача 2. Дана матрица M, напишите функцию, которая бинаризует матрицу по некоторому threshold (то есть, все значения большие threshold становятся равными 1, иначе 0). Напишите тесты для кода"
   ]
  },
  {
   "cell_type": "code",
   "execution_count": 62,
   "metadata": {
    "id": "KQDNMgsjRNH7"
   },
   "outputs": [
    {
     "name": "stdout",
     "output_type": "stream",
     "text": [
      "[[ 2.   4. ]\n",
      " [ 0.3 17. ]\n",
      " [-1.   0. ]]\n",
      "[[1. 1.]\n",
      " [0. 1.]\n",
      " [0. 0.]] \n",
      "\n",
      "[[6 6 6]\n",
      " [6 6 6]\n",
      " [6 6 6]]\n",
      "[[1 1 1]\n",
      " [1 1 1]\n",
      " [1 1 1]] \n",
      "\n",
      "[[ 0.   0.   0. ]\n",
      " [-1.  -1.  -1. ]\n",
      " [30.  40.  50. ]\n",
      " [ 0.5  0.4  0.6]]\n",
      "[[0. 0. 0.]\n",
      " [0. 0. 0.]\n",
      " [1. 1. 1.]\n",
      " [0. 0. 1.]] \n",
      "\n"
     ]
    }
   ],
   "source": [
    "\n",
    "def binarize(M, threshold=0.5):\n",
    "    for i in range(len(M)):\n",
    "        for j in range(len(M[i])):\n",
    "            if M[i][j] > threshold:\n",
    "                M[i][j] = 1\n",
    "            else: \n",
    "                M[i][j] = 0\n",
    "    return M\n",
    "    pass\n",
    "a = np.array([[2,4],[0.3,17],[-1,0]])\n",
    "b = np.full((3,3),6)\n",
    "d = np.array([[0,0,0],[-1,-1,-1],[30,40,50],[0.5,0.4,0.6]])\n",
    "print(a)\n",
    "print(binarize(a), '\\n')\n",
    "print(b)\n",
    "print(binarize(b), '\\n')\n",
    "print(d)\n",
    "print(binarize(d), '\\n')\n",
    "\n"
   ]
  },
  {
   "cell_type": "markdown",
   "metadata": {
    "id": "IY5L-h-7zWhN"
   },
   "source": [
    "<h1>Задача 3. Напишите функцию, которая возвращает уникальные элементы из каждой строки матрицы. Напишите такую же функцию, но для столбцов. Напишите тесты для кода"
   ]
  },
  {
   "cell_type": "code",
   "execution_count": 41,
   "metadata": {
    "id": "-8dEZhR0SBC-"
   },
   "outputs": [
    {
     "name": "stdout",
     "output_type": "stream",
     "text": [
      "[[1], [2, 3, 4, 5], [11, 1, 4]]\n",
      "[[1, 2, 11], [1, 3], [1, 4], [1, 5, 4]]\n",
      "----------\n",
      "[[2, 3], [3, 4], [1]]\n",
      "[[2, 3, 1], [2, 4, 1], [3, 1]]\n",
      "----------\n",
      "[[2], [2, 3], [4]]\n",
      "[[2, 4], [2, 3, 4]]\n",
      "----------\n"
     ]
    }
   ],
   "source": [
    "def unique_rows(mat):\n",
    "    ar = []\n",
    "    for i in range(len(mat)):\n",
    "        ar_row = []\n",
    "        for j in range(len(mat[i])):\n",
    "            if mat[i][j] not in ar_row:\n",
    "                ar_row.append(mat[i][j])\n",
    "        ar.append(ar_row)\n",
    "    return ar\n",
    "    pass\n",
    "\n",
    "def unique_columns(mat):\n",
    "    ar = []\n",
    "    for i in range(len(mat[0])):\n",
    "        ar_columns = []\n",
    "        for j in range(len(mat)):\n",
    "            if mat[j][i] not in ar_columns:\n",
    "                ar_columns.append(mat[j][i])\n",
    "        ar.append(ar_columns)\n",
    "    return ar\n",
    "    pass\n",
    "mat1 = [[1,1,1,1],[2,3,4,5],[11,1,4,4]]\n",
    "mat2 = [[2,2,3],[3,4,3],[1,1,1]]\n",
    "mat3 = [[2,2],[2,3],[4,4]]\n",
    "print(unique_rows(mat1), unique_columns(mat1), '----------', sep = '\\n')\n",
    "print(unique_rows(mat2), unique_columns(mat2), '----------', sep = '\\n')\n",
    "print(unique_rows(mat3), unique_columns(mat3), '----------', sep = '\\n')"
   ]
  },
  {
   "cell_type": "markdown",
   "metadata": {
    "id": "roYAlo4Jz-lH"
   },
   "source": [
    "<h1>Задача 4. Напишите функцию, которая заполняет матрицу с размерами $(m, n)$ случайными числами, распределенными по нормальному закону. Затем считает мат. ожидание и дисперсию для каждого из столбцов и строк, а также строит для каждой строки и столбца гистограмму значений (использовать функцию hist из модуля matplotlib.plot)"
   ]
  },
  {
   "cell_type": "code",
   "execution_count": 7,
   "metadata": {
    "id": "nZK_71hMSQzv"
   },
   "outputs": [
    {
     "name": "stdout",
     "output_type": "stream",
     "text": [
      "([0.034050455498504155, 0.729768762959315], [2.102636479856401, 1.6465147574268988])\n"
     ]
    },
    {
     "data": {
      "image/png": "[encoded data removed]",
      "text/plain": [
       "<Figure size 640x480 with 1 Axes>"
      ]
     },
     "metadata": {},
     "output_type": "display_data"
    }
   ],
   "source": [
    "\n",
    "#Стандартное нормальное распределение подразумевает значение чисел в диапазоне [-3:3], стандартная функция \n",
    "# numpy.random.rand() -- генерирует числа в диапазоне [-1;1], что тоже в целом подчиняется нормальному распределению\n",
    "def func(m,n):\n",
    "    mat = np.dot(np.random.rand(m,n),3)\n",
    "    desp_lines = []\n",
    "    wait_lines = []\n",
    "    for i in range(len(mat)):\n",
    "        desp_lines.append(mat[i].var())\n",
    "        wait_lines.append(mat[i].mean())\n",
    "        plt.hist(mat[i])\n",
    "        column = []\n",
    "        desp_columns = []\n",
    "        wait_columns = []\n",
    "        for j in range(len(mat[i])):\n",
    "            column.append(mat[j][i])\n",
    "        desp_columns.append(np.array(column).var())\n",
    "        wait_columns.append(np.array(column).mean())\n",
    "        plt.hist(column)\n",
    "    return desp_lines, wait_lines\n",
    "print(func(2,2))"
   ]
  },
  {
   "cell_type": "markdown",
   "metadata": {
    "id": "BDyATNdM0dJ2"
   },
   "source": [
    "<h1>Задача 5. Напишите функцию, которая заполняет матрицу $(m, n)$ в шахматном порядке заданными числами $a$ и $b$. Напишите тесты для кода"
   ]
  },
  {
   "cell_type": "code",
   "execution_count": 23,
   "metadata": {
    "id": "RWNJYWQGecS6"
   },
   "outputs": [
    {
     "name": "stdout",
     "output_type": "stream",
     "text": [
      "[['a' 'b']\n",
      " ['b' 'a']]\n",
      "[['a' 'b' 'a' 'b']\n",
      " ['b' 'a' 'b' 'a']\n",
      " ['a' 'b' 'a' 'b']]\n",
      "[['a' 'b' 'a' 'b' 'a' 'b']]\n"
     ]
    }
   ],
   "source": [
    "\n",
    "def chess(m, n, a, b):\n",
    "    ar_1 = []\n",
    "    for i in range(m):\n",
    "        ar_2 = []\n",
    "        if i%2 == 0:\n",
    "            for j in range(n):\n",
    "                if j%2 == 0:\n",
    "                    ar_2.append(a)\n",
    "                else:\n",
    "                    ar_2.append(b)\n",
    "        else:\n",
    "            for j in range(n):\n",
    "                if j%2 == 0:\n",
    "                    ar_2.append(b)\n",
    "                else:\n",
    "                    ar_2.append(a)\n",
    "        ar_1.append(ar_2)\n",
    "    return np.array(ar_1)\n",
    "    pass\n",
    "print(chess(2,2,'a','b'))\n",
    "print(chess(3,4,'a','b'))\n",
    "print(chess(1,6,'a','b'))"
   ]
  },
  {
   "cell_type": "markdown",
   "metadata": {
    "id": "-ymXLtTN0vB6"
   },
   "source": [
    "<h1>Задача 6. Напишите функцию, которая отрисовывает прямоугольник с заданными размерами (a, b) на изображении размера (m, n), цвет фона задайте в схеме RGB, как и цвет прямоугольника. Цвета также должны быть параметрами функции. Напишите аналогичную функцию но для овала с полуосями a и b. Напишите тесты для кода.\n",
    "Примечание: уравнение эллипса (границы овала) можно записать как:\n",
    "<h1>$\\frac{(x-x_0)^2}{a^2}+\\frac{(y-y_0)^2}{b^2}=1$"
   ]
  },
  {
   "cell_type": "code",
   "execution_count": 4,
   "metadata": {
    "id": "sNfl1t_kfOF4"
   },
   "outputs": [
    {
     "data": {
      "image/png": "[encoded data removed]",
      "text/plain": [
       "<Figure size 640x480 with 1 Axes>"
      ]
     },
     "metadata": {},
     "output_type": "display_data"
    },
    {
     "data": {
      "image/png": "[encoded data removed]",
      "text/plain": [
       "<Figure size 640x480 with 1 Axes>"
      ]
     },
     "metadata": {},
     "output_type": "display_data"
    }
   ],
   "source": [
    "\n",
    "import matplotlib.patches\n",
    "\n",
    "def draw_rectangle(a, b, m, n, rectangle_color, background_color):\n",
    "    axes = plt.gca()\n",
    "    axes.set_aspect(\"equal\")\n",
    "    plt.xlim(0,m)\n",
    "    plt.ylim(0,n)\n",
    "    rectangle = matplotlib.patches.Polygon([(0, a),\n",
    "                                            (b, a),\n",
    "                                            (b, 0),\n",
    "                                            (0, 0)], color =rectangle_color)\n",
    "    axes.add_patch(rectangle)\n",
    "    axes.set_facecolor(background_color)\n",
    "    plt.show()\n",
    "def draw_ellipse(a, b, m, n, ellipse_color, background_color):\n",
    "    axes = plt.gca()\n",
    "    axes.set_aspect(\"equal\")\n",
    "    plt.xlim(0,m)\n",
    "    plt.ylim(0,n)\n",
    "    xy = [m/2,n/2]\n",
    "    Ellipse = matplotlib.patches.Ellipse(xy,a,b, color = ellipse_color)    \n",
    "    axes.add_patch(Ellipse)\n",
    "    axes.set_facecolor(background_color)\n",
    "    plt.show()\n",
    "    pass  \n",
    "draw_rectangle(0.4,0.6,1,1,'#CC0000','#00CCFF')\n",
    "draw_ellipse(0.4,0.6,1,1,'#CC0000','#00CCFF')"
   ]
  },
  {
   "cell_type": "markdown",
   "metadata": {
    "id": "S82c38oz244H"
   },
   "source": [
    "<h1>Задача 7. Дан некий временной ряд. Для данного ряда нужно найти его: математическое ожидание, дисперсию, СКО, найти все локальные максимумы и минимумы (локальный максимум - это точка, которая больше своих соседних точек, а локальный минимум - это точка, которая меньше своих соседей), а также вычислить для данного ряда другой ряд, получаемый методом скользящего среднего с размером окна $p$.\n",
    "<h1>Примечание: метод скользящего среднего подразумевает нахождение среднего из подмножетсва ряда размером $p$"
   ]
  },
  {
   "cell_type": "code",
   "execution_count": null,
   "metadata": {
    "id": "Zb9mIVge5MMt"
   },
   "outputs": [],
   "source": [
    "def func():\n",
    "    dis  = lane.var()\n",
    "    mean = lane.mean()\n",
    "    std = lane.std()\n",
    "    \n"
   ]
  },
  {
   "cell_type": "markdown",
   "metadata": {
    "id": "jPkylmOX5O9n"
   },
   "source": [
    "<h1> Задача 8. Дан некоторый вектор с целочисленными метками классов, напишите функцию, которая выполняет one-hot-encoding для данного вектора\n",
    "<h1> One-hot-encoding - представление, в котором на месте метки некоторого класса стоит 1, в остальных позициях стоит 0. Например для вектора [0, 2, 3, 0] one-hot-encoding выглядит как: [[1, 0, 0, 0], [0, 0, 1, 0], [0, 0, 0, 1], [1, 0, 0, 0]]"
   ]
  },
  {
   "cell_type": "code",
   "execution_count": 91,
   "metadata": {
    "id": "Y-jlnZvw56lD"
   },
   "outputs": [
    {
     "name": "stdout",
     "output_type": "stream",
     "text": [
      "[[1 0 0]\n",
      " [0 1 0]\n",
      " [0 0 1]\n",
      " [1 0 0]]\n",
      "-----------------\n",
      "[[1 0 0 0]\n",
      " [0 1 0 0]\n",
      " [0 0 1 0]\n",
      " [0 0 0 1]]\n",
      "-----------------\n",
      "[[0 0 0 1]\n",
      " [0 0 1 0]\n",
      " [0 1 0 0]\n",
      " [1 0 0 0]]\n"
     ]
    }
   ],
   "source": [
    "import numpy as np\n",
    "\n",
    "def one_hot_encode(vector):\n",
    "    unique_values = np.unique(vector)\n",
    "    one_hot_matrix = np.zeros((len(vector), len(unique_values)), dtype=int)\n",
    "    for i, value in enumerate(vector):\n",
    "        index = np.where(unique_values == value)[0][0]\n",
    "        one_hot_matrix[i, index] = 1\n",
    "    return one_hot_matrix\n",
    "\n",
    "vector1 = [0, 2, 3, 0]\n",
    "vector2 = [1, 2, 3, 4]\n",
    "vector3 = [4, 3, 2, 1]\n",
    "print(one_hot_encode(vector1))\n",
    "print('-----------------')\n",
    "print(one_hot_encode(vector2))\n",
    "print('-----------------')\n",
    "print(one_hot_encode(vector3))\n"
   ]
  },
  {
   "cell_type": "code",
   "execution_count": null,
   "metadata": {},
   "outputs": [],
   "source": []
  }
 ],
 "metadata": {
  "colab": {
   "provenance": []
  },
  "kernelspec": {
   "display_name": "Python 3 (ipykernel)",
   "language": "python",
   "name": "python3"
  },
  "language_info": {
   "codemirror_mode": {
    "name": "ipython",
    "version": 3
   },
   "file_extension": ".py",
   "mimetype": "text/x-python",
   "name": "python",
   "nbconvert_exporter": "python",
   "pygments_lexer": "ipython3",
   "version": "3.12.4"
  }
 },
 "nbformat": 4,
 "nbformat_minor": 4
}
