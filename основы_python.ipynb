{
 "cells": [
  {
   "cell_type": "markdown",
   "metadata": {
    "id": "M-DGa20PaHnu"
   },
   "source": [
    "#Задача 1\n",
    "Написать функцию на вход которой подается строка, состоящая из латинских букв.\n",
    "Функция должна вернуть количество гласных букв (a, e, i, o, u) в этой строке. Написать тесты для кода"
   ]
  },
  {
   "cell_type": "code",
   "execution_count": 3,
   "metadata": {
    "id": "XvX8X_JJ6PCb"
   },
   "outputs": [],
   "source": [
    "def count_vowels(s: str) -> int:\n",
    "    vowels = \"aeiou\"\n",
    "    return sum(1 for char in s.lower() if char in vowels)"
   ]
  },
  {
   "cell_type": "code",
   "execution_count": 9,
   "metadata": {},
   "outputs": [
    {
     "name": "stdout",
     "output_type": "stream",
     "text": [
      "All test cases passed!\n"
     ]
    }
   ],
   "source": [
    "def test_count_vowels():\n",
    "    assert count_vowels(\"hello\") == 2, \"Test case 1 failed\"\n",
    "    assert count_vowels(\"HELLO\") == 2, \"Test case 2 failed\"\n",
    "    assert count_vowels(\"Python\") == 1, \"Test case 3 failed\"\n",
    "    assert count_vowels(\"AEIOU\") == 5, \"Test case 4 failed\"\n",
    "    assert count_vowels(\"\") == 0, \"Test case 5 failed\"\n",
    "    assert count_vowels(\"bcdfgh\") == 0, \"Test case 6 failed\"\n",
    "    assert count_vowels(\"This is a test string\") == 5, \"Test case 7 failed\"\n",
    "\n",
    "    print(\"All test cases passed!\")\n",
    "\n",
    "\n",
    "test_count_vowels()"
   ]
  },
  {
   "cell_type": "markdown",
   "metadata": {
    "id": "t2ClV_Y0bbr6"
   },
   "source": [
    "# Задача 2\n",
    "Написать функцию на вход, которой подается строка. Функция должна вернуть true, если\n",
    "каждый символ в строке встречается только 1 раз, иначе должна вернуть false. Написать тесты для кода"
   ]
  },
  {
   "cell_type": "code",
   "execution_count": 5,
   "metadata": {
    "id": "FppbECao6VIz"
   },
   "outputs": [],
   "source": [
    "def is_unique(s: str) -> bool:\n",
    "    return len(s) == len(set(s))"
   ]
  },
  {
   "cell_type": "code",
   "execution_count": 10,
   "metadata": {},
   "outputs": [
    {
     "name": "stdout",
     "output_type": "stream",
     "text": [
      "All test cases passed!\n"
     ]
    }
   ],
   "source": [
    "def test_is_unique():\n",
    "    assert is_unique(\"abcdef\") == True, \"Test case 1 failed\"\n",
    "    assert is_unique(\"hello\") == False, \"Test case 2 failed\"\n",
    "    assert is_unique(\"world\") == True, \"Test case 3 failed\"\n",
    "    assert is_unique(\"aabbcc\") == False, \"Test case 4 failed\"\n",
    "    assert is_unique(\"Python\") == True, \"Test case 6 failed\"\n",
    "    assert is_unique(\"AaBbCc\") == True, \"Test case 7 failed\" \n",
    "\n",
    "    print(\"All test cases passed!\")\n",
    "\n",
    "\n",
    "test_is_unique()"
   ]
  },
  {
   "cell_type": "markdown",
   "metadata": {
    "id": "udRiIK1cdt6E"
   },
   "source": [
    "# Задача 3\n",
    "Написать функцию, которая принимает положительное число и возвращает количество\n",
    "бит равных 1 в этом числе. Написать тесты для кода"
   ]
  },
  {
   "cell_type": "code",
   "execution_count": 8,
   "metadata": {
    "id": "6tkfDJRz6dp_"
   },
   "outputs": [],
   "source": [
    "def count_bits(n: int) -> int:\n",
    "    return bin(n).count('1')"
   ]
  },
  {
   "cell_type": "code",
   "execution_count": 11,
   "metadata": {},
   "outputs": [
    {
     "name": "stdout",
     "output_type": "stream",
     "text": [
      "All test cases passed!\n"
     ]
    }
   ],
   "source": [
    "def test_count_bits():\n",
    "    assert count_bits(0) == 0, \"Test case 1 failed\"\n",
    "    assert count_bits(1) == 1, \"Test case 2 failed\"\n",
    "    assert count_bits(5) == 2, \"Test case 3 failed\"  # 5 в двоичной: 101\n",
    "    assert count_bits(10) == 2, \"Test case 4 failed\"  # 10 в двоичной: 1010\n",
    "    assert count_bits(255) == 8, \"Test case 5 failed\"  # 255 в двоичной: 11111111\n",
    "    assert count_bits(1023) == 10, \"Test case 6 failed\"  # 1023 в двоичной: 1111111111\n",
    "\n",
    "    print(\"All test cases passed!\")\n",
    "\n",
    "\n",
    "test_count_bits()"
   ]
  },
  {
   "cell_type": "markdown",
   "metadata": {
    "id": "26dDUz-Ae17N"
   },
   "source": [
    "# Задача 4\n",
    "Написать функцию, которая принимает положительное число. Функция должна вернуть то,\n",
    "сколько раз необходимо перемножать цифры числа или результат перемножения, чтобы\n",
    "получилось число состоящее из одной цифры.\n",
    "Например, для входного числа:\n",
    "· 39 функция должна вернуть 3, так как 3*9=27 => 2*7=14 => 1*4=4\n",
    "· 4 функция должна вернуть 0, так как число уже состоит из одной цифры\n",
    "· 999 функция должна вернуть 4, так как 9*9*9=729 => 7*2*9=126 => 1*2*6=12 =>\n",
    "1*2=2. Написать тесты для кода"
   ]
  },
  {
   "cell_type": "code",
   "execution_count": 18,
   "metadata": {
    "id": "BH1A_Mgi6i4G"
   },
   "outputs": [],
   "source": [
    "def magic(n: int) -> int:\n",
    "    steps = 0\n",
    "    while n >= 10:  # Продолжаем, пока число больше или равно 10\n",
    "        n = multiply_digits(n)\n",
    "        steps += 1\n",
    "    return steps\n",
    "\n",
    "def multiply_digits(n: int) -> int:\n",
    "    result = 1\n",
    "    while n > 0:\n",
    "        result *= n % 10  # Умножаем на последнюю цифру\n",
    "        n //= 10  # Убираем последнюю цифру\n",
    "    return result"
   ]
  },
  {
   "cell_type": "code",
   "execution_count": 19,
   "metadata": {},
   "outputs": [
    {
     "name": "stdout",
     "output_type": "stream",
     "text": [
      "All test cases passed!\n"
     ]
    }
   ],
   "source": [
    "def test_magic():\n",
    "    assert magic(39) == 3, \"Test case 1 failed\"  # 39 -> 27 -> 14 -> 4\n",
    "    assert magic(4) == 0, \"Test case 2 failed\"  # 4 уже однозначное\n",
    "    assert magic(999) == 4, \"Test case 3 failed\"  # 999 -> 729 -> 126 -> 12 -> 2\n",
    "    assert magic(25) == 2, \"Test case 4 failed\"  # 25 -> 10 -> 0\n",
    "    assert magic(10) == 1, \"Test case 5 failed\"  # 10 -> 0\n",
    "    assert magic(1) == 0, \"Test case 6 failed\"  # 1 уже однозначное\n",
    "\n",
    "    print(\"All test cases passed!\")\n",
    "\n",
    "\n",
    "test_magic()"
   ]
  },
  {
   "cell_type": "markdown",
   "metadata": {
    "id": "0nS-kIa8g8vd"
   },
   "source": [
    "# Задача 5\n",
    "Написать функцию, которая принимает два целочисленных вектора одинаковой длины и\n",
    "возвращает среднеквадратическое отклонение двух векторов. Написать тесты для кода"
   ]
  },
  {
   "cell_type": "code",
   "execution_count": 20,
   "metadata": {
    "id": "8iphx4LM6xbx"
   },
   "outputs": [],
   "source": [
    "def mse(pred, true):\n",
    "    if len(pred) != len(true):\n",
    "        raise ValueError(\"Vectors must be of the same length\")\n",
    "    \n",
    "    squared_errors = [(p - t) ** 2 for p, t in zip(pred, true)]\n",
    "    return sum(squared_errors) / len(pred)"
   ]
  },
  {
   "cell_type": "code",
   "execution_count": 21,
   "metadata": {},
   "outputs": [
    {
     "name": "stdout",
     "output_type": "stream",
     "text": [
      "All test cases passed!\n"
     ]
    }
   ],
   "source": [
    "def test_mse():\n",
    "    assert mse([1, 2, 3], [1, 2, 3]) == 0, \"Test case 1 failed\"  # Векторы идентичны, MSE = 0\n",
    "    assert mse([1, 2, 3], [4, 5, 6]) == 9, \"Test case 2 failed\"  # Среднеквадратическая ошибка = 9\n",
    "    assert mse([1, 1, 1], [2, 2, 2]) == 1, \"Test case 3 failed\"  # MSE = 1\n",
    "    assert mse([0, 0, 0], [1, 1, 1]) == 1, \"Test case 4 failed\"  # MSE = 1\n",
    "    assert mse([10, 20, 30], [10, 20, 30]) == 0, \"Test case 5 failed\"  # MSE = 0\n",
    "    \n",
    "    print(\"All test cases passed!\")\n",
    "\n",
    "\n",
    "test_mse()"
   ]
  },
  {
   "cell_type": "markdown",
   "metadata": {
    "id": "vpIPKL439zkw"
   },
   "source": [
    "# Задача 6\n",
    "Написать функцию, принимающая целое положительное число. Функция должна вернуть\n",
    "строку вида “(n1**p1)(n2**p2)…(nk**pk)” представляющая разложение числа на простые\n",
    "множители (если pi == 1, то выводить только ni).\n",
    "Например, для числа 86240 функция должна вернуть “(2**5)(5)(7**2)(11)”. Написать тесты для кода"
   ]
  },
  {
   "cell_type": "code",
   "execution_count": 22,
   "metadata": {
    "id": "pFebmcZk94Jw"
   },
   "outputs": [],
   "source": [
    "def prime_factors(n: int) -> str:\n",
    "    factors = {}\n",
    "    divisor = 2\n",
    "\n",
    "    while n > 1:\n",
    "        count = 0\n",
    "        while n % divisor == 0:\n",
    "            n //= divisor\n",
    "            count += 1\n",
    "        if count > 0:\n",
    "            factors[divisor] = count\n",
    "        divisor += 1\n",
    "\n",
    "    # Формирование строки вида \"(ni**pi)\"\n",
    "    result = ''\n",
    "    for prime, power in factors.items():\n",
    "        if power == 1:\n",
    "            result += f\"({prime})\"\n",
    "        else:\n",
    "            result += f\"({prime}**{power})\"\n",
    "\n",
    "    return result"
   ]
  },
  {
   "cell_type": "code",
   "execution_count": 23,
   "metadata": {},
   "outputs": [
    {
     "name": "stdout",
     "output_type": "stream",
     "text": [
      "All test cases passed!\n"
     ]
    }
   ],
   "source": [
    "def test_prime_factors():\n",
    "    assert prime_factors(86240) == \"(2**5)(5)(7**2)(11)\", \"Test case 1 failed\"\n",
    "    assert prime_factors(60) == \"(2**2)(3)(5)\", \"Test case 2 failed\"\n",
    "    assert prime_factors(13) == \"(13)\", \"Test case 3 failed\"\n",
    "    assert prime_factors(100) == \"(2**2)(5**2)\", \"Test case 4 failed\"\n",
    "    assert prime_factors(1) == \"\", \"Test case 5 failed\"  # Нет простых множителей\n",
    "\n",
    "    print(\"All test cases passed!\")\n",
    "\n",
    "\n",
    "test_prime_factors()"
   ]
  },
  {
   "cell_type": "markdown",
   "metadata": {
    "id": "ps2s0BudX7A2"
   },
   "source": [
    "# Задача 7\n",
    "Написать функцию, принимающая целое число n, задающее количество кубиков. Функция\n",
    "должна определить, можно ли из данного кол-ва кубиков построить пирамиду, то есть\n",
    "можно ли представить число n как 1^2+2^2+3^2+…+k^2. Если можно, то функция должна\n",
    "вернуть k, иначе строку “It is impossible”. Написать тесты для кода"
   ]
  },
  {
   "cell_type": "code",
   "execution_count": 45,
   "metadata": {
    "id": "3YPjEXxhX_YT"
   },
   "outputs": [],
   "source": [
    "def pyramid(number: int):\n",
    "    total = 0\n",
    "    k = 0\n",
    "\n",
    "    # Добавляем квадраты натуральных чисел до тех пор, пока сумма не превысит number\n",
    "    while total < number:\n",
    "        k += 1\n",
    "        total += k ** 2  # добавляем квадрат текущего k\n",
    "\n",
    "    # Если сумма квадратов равна number, то возвращаем k, иначе - \"It is impossible\"\n",
    "    if total == number:\n",
    "        return k\n",
    "    else:\n",
    "        # Проверяем, можем ли мы уменьшить k, чтобы получить правильную сумму\n",
    "        total = sum(i ** 2 for i in range(1, k + 1))\n",
    "        for j in range(k, 0, -1):\n",
    "            total -= j ** 2\n",
    "            if total == number:\n",
    "                return j - 1\n",
    "            if total < number:\n",
    "                break\n",
    "\n",
    "        return \"It is impossible\""
   ]
  },
  {
   "cell_type": "code",
   "execution_count": 48,
   "metadata": {},
   "outputs": [
    {
     "name": "stdout",
     "output_type": "stream",
     "text": [
      "All test cases passed!\n"
     ]
    }
   ],
   "source": [
    "def test_pyramid():\n",
    "    assert pyramid(14) == 3, \"Test case 1 failed\"  # 1^2 + 2^2 + 3^2 = 14\n",
    "    assert pyramid(30) == 4, \"Test case 2 failed\"  # 1^2 + 2^2 + 3^2 + 4^2 = 30\n",
    "    assert pyramid(1) == 1, \"Test case 3 failed\"  # 1^2 = 1\n",
    "    assert pyramid(385) == 10, \"Test case 4 failed\"  # Сумма квадратов чисел от 1 до 10 = 385\n",
    "\n",
    "    print(\"All test cases passed!\")\n",
    "\n",
    "\n",
    "test_pyramid()"
   ]
  },
  {
   "cell_type": "markdown",
   "metadata": {
    "id": "KeKgmIdAQMEJ"
   },
   "source": [
    "# Задача 8\n",
    "Функция принимает на вход положительное число и определяет является ли оно сбалансированным, т.е. сумма цифр до средних равна сумме цифр после. Средними в случае нечетного числа цифр считать одну цифру, в случае четного - две средних. Написать тесты для кода"
   ]
  },
  {
   "cell_type": "code",
   "execution_count": 49,
   "metadata": {
    "id": "gMAAqtqlQrZt"
   },
   "outputs": [],
   "source": [
    "def is_balanced(number: int) -> bool:\n",
    "    digits = [int(d) for d in str(number)]  # Преобразуем число в список его цифр\n",
    "    length = len(digits)\n",
    "\n",
    "    if length % 2 == 0:  # Четное количество цифр\n",
    "        mid = length // 2\n",
    "        left_sum = sum(digits[:mid])\n",
    "        right_sum = sum(digits[mid:])\n",
    "    else:  # Нечетное количество цифр\n",
    "        mid = length // 2\n",
    "        left_sum = sum(digits[:mid])\n",
    "        right_sum = sum(digits[mid + 1:])\n",
    "\n",
    "    return left_sum == right_sum"
   ]
  },
  {
   "cell_type": "code",
   "execution_count": 50,
   "metadata": {},
   "outputs": [
    {
     "name": "stdout",
     "output_type": "stream",
     "text": [
      "All test cases passed!\n"
     ]
    }
   ],
   "source": [
    "def test_is_balanced():\n",
    "    assert is_balanced(123321) == True, \"Test case 1 failed\"  # 1+2 = 3, 3+2 = 3\n",
    "    assert is_balanced(1234321) == True, \"Test case 2 failed\"  # 1+2+3 = 6, 3+2+1 = 6\n",
    "    assert is_balanced(123) == False, \"Test case 3 failed\"  # 1 != 3\n",
    "    assert is_balanced(1001) == True, \"Test case 4 failed\"  # 1 = 1\n",
    "    assert is_balanced(123456) == False, \"Test case 5 failed\"  # 1+2+3 != 4+5+6\n",
    "    assert is_balanced(0) == True, \"Test case 6 failed\"  # 0 сбалансированное\n",
    "\n",
    "    print(\"All test cases passed!\")\n",
    "\n",
    "\n",
    "test_is_balanced()"
   ]
  },
  {
   "cell_type": "code",
   "execution_count": null,
   "metadata": {},
   "outputs": [],
   "source": []
  }
 ],
 "metadata": {
  "colab": {
   "provenance": []
  },
  "kernelspec": {
   "display_name": "Python 3 (ipykernel)",
   "language": "python",
   "name": "python3"
  },
  "language_info": {
   "codemirror_mode": {
    "name": "ipython",
    "version": 3
   },
   "file_extension": ".py",
   "mimetype": "text/x-python",
   "name": "python",
   "nbconvert_exporter": "python",
   "pygments_lexer": "ipython3",
   "version": "3.11.8"
  }
 },
 "nbformat": 4,
 "nbformat_minor": 4
}
