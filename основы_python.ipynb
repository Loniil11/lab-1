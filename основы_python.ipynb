{
 "cells": [
  {
   "cell_type": "markdown",
   "metadata": {
    "id": "M-DGa20PaHnu"
   },
   "source": [
    "#Задача 1\n",
    "Написать функцию на вход которой подается строка, состоящая из латинских букв.\n",
    "Функция должна вернуть количество гласных букв (a, e, i, o, u) в этой строке. Написать тесты для кода"
   ]
  },
  {
   "cell_type": "code",
   "execution_count": 23,
   "metadata": {
    "id": "XvX8X_JJ6PCb"
   },
   "outputs": [
    {
     "name": "stdout",
     "output_type": "stream",
     "text": [
      "5\n",
      "0\n",
      "2\n"
     ]
    }
   ],
   "source": [
    "def func(string):\n",
    "    s = 0\n",
    "    ar = ['a',\"e\",'i','o','u']\n",
    "    for i in range (len(string)):\n",
    "        if string[i] in ar:\n",
    "            s+=1\n",
    "    return s \n",
    "print(func(\"aioue\"))\n",
    "print(func(\"sdfgh\"))\n",
    "print(func(\"abcdeghjkl\"))"
   ]
  },
  {
   "cell_type": "markdown",
   "metadata": {
    "id": "t2ClV_Y0bbr6"
   },
   "source": [
    "# Задача 2\n",
    "Написать функцию на вход, которой подается строка. Функция должна вернуть true, если\n",
    "каждый символ в строке встречается только 1 раз, иначе должна вернуть false. Написать тесты для кода"
   ]
  },
  {
   "cell_type": "code",
   "execution_count": 29,
   "metadata": {
    "id": "FppbECao6VIz"
   },
   "outputs": [
    {
     "name": "stdout",
     "output_type": "stream",
     "text": [
      "False\n",
      "True\n",
      "False\n"
     ]
    }
   ],
   "source": [
    "def func(string):\n",
    "    ar = []\n",
    "    for i in range(len(string)):\n",
    "        if string[i] not in ar:\n",
    "            ar.extend(string[i])\n",
    "        else:\n",
    "            return False\n",
    "    return True\n",
    "print(func(\"aaa\"))\n",
    "print(func(\"abc\"))\n",
    "print(func(\"abcdea\"))"
   ]
  },
  {
   "cell_type": "markdown",
   "metadata": {
    "id": "udRiIK1cdt6E"
   },
   "source": [
    "# Задача 3\n",
    "Написать функцию, которая принимает положительное число и возвращает количество\n",
    "бит равных 1 в этом числе. Написать тесты для кода"
   ]
  },
  {
   "cell_type": "code",
   "execution_count": 39,
   "metadata": {
    "id": "6tkfDJRz6dp_"
   },
   "outputs": [
    {
     "name": "stdout",
     "output_type": "stream",
     "text": [
      "2 0b110\n",
      "2 0b1010\n",
      "1 0b1\n"
     ]
    }
   ],
   "source": [
    "def func(x):\n",
    "    a = str(bin(x))[2:]\n",
    "    s = a.count('1')\n",
    "    return s\n",
    "print(func(6), bin(6))\n",
    "print(func(10), bin(10))\n",
    "print(func(1),bin(1))"
   ]
  },
  {
   "cell_type": "markdown",
   "metadata": {
    "id": "26dDUz-Ae17N"
   },
   "source": [
    "# Задача 4\n",
    "Написать функцию, которая принимает положительное число. Функция должна вернуть то,\n",
    "сколько раз необходимо перемножать цифры числа или результат перемножения, чтобы\n",
    "получилось число состоящее из одной цифры.\n",
    "Например, для входного числа:\n",
    "· 39 функция должна вернуть 3, так как 3*9=27 => 2*7=14 => 1*4=4\n",
    "· 4 функция должна вернуть 0, так как число уже состоит из одной цифры\n",
    "· 999 функция должна вернуть 4, так как 9*9*9=729 => 7*2*9=126 => 1*2*6=12 =>\n",
    "1*2=2. Написать тесты для кода"
   ]
  },
  {
   "cell_type": "code",
   "execution_count": 47,
   "metadata": {
    "id": "BH1A_Mgi6i4G"
   },
   "outputs": [
    {
     "name": "stdout",
     "output_type": "stream",
     "text": [
      "3\n",
      "1\n",
      "4\n"
     ]
    }
   ],
   "source": [
    "def magic(n):\n",
    "    string = str(n)\n",
    "    if len(string) == 1:\n",
    "        return 1\n",
    "    else:\n",
    "        k = 0\n",
    "        while len(string) != 1:\n",
    "            ar = []\n",
    "            s = 1\n",
    "            for i in range (len(string)):\n",
    "                ar.append(int(string[i]))\n",
    "            for i in range(len(ar)):\n",
    "                s *= ar[i]\n",
    "            k+=1\n",
    "            string = str(s)\n",
    "        return k\n",
    "    pass\n",
    "print(magic(39))\n",
    "print(magic(4))\n",
    "print(magic(999))\n"
   ]
  },
  {
   "cell_type": "markdown",
   "metadata": {
    "id": "0nS-kIa8g8vd"
   },
   "source": [
    "# Задача 5\n",
    "Написать функцию, которая принимает два целочисленных вектора одинаковой длины и\n",
    "возвращает среднеквадратическое отклонение двух векторов. Написать тесты для кода"
   ]
  },
  {
   "cell_type": "code",
   "execution_count": 5,
   "metadata": {
    "id": "8iphx4LM6xbx"
   },
   "outputs": [
    {
     "name": "stdout",
     "output_type": "stream",
     "text": [
      "Среднеквадратичное отклонение вектора 1: 1.4142135623730951\n",
      "Среднеквадратичное отклонение вектора 2: 1.4142135623730951\n"
     ]
    }
   ],
   "source": [
    "import numpy as np\n",
    "\n",
    "# Пример векторов\n",
    "vector1 = np.array([1, 2, 3, 4, 5])\n",
    "vector2 = np.array([2, 3, 4, 5, 6])\n",
    "\n",
    "# Вычисление среднеквадратичного отклонения\n",
    "std_dev_vector1 = np.std(vector1)\n",
    "std_dev_vector2 = np.std(vector2)\n",
    "\n",
    "print(f\"Среднеквадратичное отклонение вектора 1:\", std_dev_vector1)\n",
    "print(f\"Среднеквадратичное отклонение вектора 2:\", std_dev_vector2)\n"
   ]
  },
  {
   "cell_type": "markdown",
   "metadata": {
    "id": "vpIPKL439zkw"
   },
   "source": [
    "# Задача 6\n",
    "Написать функцию, принимающая целое положительное число. Функция должна вернуть\n",
    "строку вида “(n1**p1)(n2**p2)…(nk**pk)” представляющая разложение числа на простые\n",
    "множители (если pi == 1, то выводить только ni).\n",
    "Например, для числа 86240 функция должна вернуть “(2**5)(5)(7**2)(11)”. Написать тесты для кода"
   ]
  },
  {
   "cell_type": "code",
   "execution_count": 67,
   "metadata": {
    "id": "pFebmcZk94Jw"
   },
   "outputs": [
    {
     "name": "stdout",
     "output_type": "stream",
     "text": [
      "(2**2)(3)(5)\n",
      "(2**5)(5)(7**2)(11)\n",
      "(3**3)\n"
     ]
    }
   ],
   "source": [
    "def func(n):\n",
    "    ar = []\n",
    "    ar_2 = []\n",
    "    s = '('\n",
    "    k = 0\n",
    "    while n % 2 == 0:\n",
    "        ar.append(2)\n",
    "        n //= 2\n",
    "    for i in range(3, n**2 + 1, 2):\n",
    "        while n % i == 0:\n",
    "            ar.append(i)\n",
    "            n //= i\n",
    "    if n > 2:\n",
    "        ar.append(n)\n",
    "    for i in range(len(ar)):\n",
    "        if ar[i] not in ar_2:\n",
    "            ar_2.append(ar[i])\n",
    "    for i in range(len(ar_2)):\n",
    "        if ar.count(ar_2[i]) == 1:\n",
    "            s += str(ar_2[i]) + ')('\n",
    "        else:\n",
    "            s += str(ar_2[i]) + '**' + str(ar.count(ar_2[i])) + ')('\n",
    "    return s[:-1]\n",
    "print(func(60))\n",
    "print(func(86240))\n",
    "print(func(27))\n"
   ]
  },
  {
   "cell_type": "markdown",
   "metadata": {
    "id": "ps2s0BudX7A2"
   },
   "source": [
    "# Задача 7\n",
    "Написать функцию, принимающая целое число n, задающее количество кубиков. Функция\n",
    "должна определить, можно ли из данного кол-ва кубиков построить пирамиду, то есть\n",
    "можно ли представить число n как 1^2+2^2+3^2+…+k^2. Если можно, то функция должна\n",
    "вернуть k, иначе строку “It is impossible”. Написать тесты для кода"
   ]
  },
  {
   "cell_type": "code",
   "execution_count": 55,
   "metadata": {
    "id": "3YPjEXxhX_YT"
   },
   "outputs": [
    {
     "name": "stdout",
     "output_type": "stream",
     "text": [
      "1\n",
      "2\n",
      "It is impossible\n"
     ]
    }
   ],
   "source": [
    "def pyramid(number):\n",
    "    s = 0\n",
    "    k = 0\n",
    "    while s < number:\n",
    "        k+=1\n",
    "        s += k**2\n",
    "    if number == s:\n",
    "        return k\n",
    "    else:\n",
    "        return('It is impossible')\n",
    "    pass\n",
    "print(pyramid(1))\n",
    "print(pyramid(5))\n",
    "print(pyramid(6))"
   ]
  },
  {
   "cell_type": "markdown",
   "metadata": {
    "id": "KeKgmIdAQMEJ"
   },
   "source": [
    "# Задача 8\n",
    "Функция принимает на вход положительное число и определяет является ли оно сбалансированным, т.е. сумма цифр до средних равна сумме цифр после. Средними в случае нечетного числа цифр считать одну цифру, в случае четного - две средних. Написать тесты для кода"
   ]
  },
  {
   "cell_type": "code",
   "execution_count": 81,
   "metadata": {
    "id": "gMAAqtqlQrZt"
   },
   "outputs": [
    {
     "name": "stdout",
     "output_type": "stream",
     "text": [
      "Сбалансированное\n",
      "Сбалансированное\n",
      "Не сбалансированное\n",
      "Не сбалансированное\n"
     ]
    }
   ],
   "source": [
    "def func(n):\n",
    "    string = str(n)\n",
    "    if len(string)%2 != 0:\n",
    "        ar_1 = []\n",
    "        ar_2 = []\n",
    "        for i in range (len(string)//2):\n",
    "            ar_1.append(int(string[i]))\n",
    "        for i in range(len(string)//2 + 1, len(string)):\n",
    "            ar_2.append(int(string[i]))\n",
    "        if sum(ar_1) == sum(ar_2):\n",
    "            return \"Сбалансированное\"\n",
    "        else:\n",
    "            return \"Не сбалансированное\"\n",
    "    else:\n",
    "        ar_1 = []\n",
    "        ar_2 = []\n",
    "        for i in range (len(string)//2-1):\n",
    "            ar_1.append(int(string[i]))\n",
    "        for i in range(len(string)//2 + 1, len(string)):\n",
    "            ar_2.append(int(string[i]))\n",
    "        if sum(ar_1) == sum(ar_2):\n",
    "            return \"Сбалансированное\"\n",
    "        else:\n",
    "            return \"Не сбалансированное\"\n",
    "print(func(11111))\n",
    "print(func(111111))\n",
    "print(func(1234))\n",
    "print(func(12345))"
   ]
  },
  {
   "cell_type": "code",
   "execution_count": null,
   "metadata": {},
   "outputs": [],
   "source": []
  }
 ],
 "metadata": {
  "colab": {
   "provenance": []
  },
  "kernelspec": {
   "display_name": "Python 3 (ipykernel)",
   "language": "python",
   "name": "python3"
  },
  "language_info": {
   "codemirror_mode": {
    "name": "ipython",
    "version": 3
   },
   "file_extension": ".py",
   "mimetype": "text/x-python",
   "name": "python",
   "nbconvert_exporter": "python",
   "pygments_lexer": "ipython3",
   "version": "3.12.4"
  }
 },
 "nbformat": 4,
 "nbformat_minor": 4
}
